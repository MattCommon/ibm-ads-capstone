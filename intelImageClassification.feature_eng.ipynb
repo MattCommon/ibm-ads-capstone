{
 "cells": [
  {
   "cell_type": "code",
   "execution_count": 1,
   "metadata": {},
   "outputs": [],
   "source": [
    "import pickle\n",
    "import numpy as np"
   ]
  },
  {
   "cell_type": "code",
   "execution_count": 2,
   "metadata": {},
   "outputs": [],
   "source": [
    "# Define function to read in pickled data from etl step\n",
    "def readData(filename):\n",
    "    with open(filename, 'rb') as f:\n",
    "        return pickle.load(f)"
   ]
  },
  {
   "cell_type": "code",
   "execution_count": 3,
   "metadata": {},
   "outputs": [],
   "source": [
    "# Define pickle function so that data can be saved and imported into next stage\n",
    "def saveData(data, filename):\n",
    "    with open(filename, 'wb') as f:\n",
    "        pickle.dump(data, f, pickle.HIGHEST_PROTOCOL)"
   ]
  },
  {
   "cell_type": "code",
   "execution_count": 4,
   "metadata": {},
   "outputs": [],
   "source": [
    "# Read in data\n",
    "X_train1 = readData('X_train1.pickle')\n",
    "X_train2 = readData('X_train2.pickle')\n",
    "X_test = readData('X_test.pickle')\n",
    "X_valid = readData('X_valid.pickle')"
   ]
  },
  {
   "cell_type": "code",
   "execution_count": 5,
   "metadata": {},
   "outputs": [],
   "source": [
    "# Normalise data\n",
    "X_train1 = X_train1.astype('float32')/255\n",
    "X_train2 = X_train2.astype('float32')/255\n",
    "X_test = X_test.astype('float32')/255\n",
    "X_valid = X_valid.astype('float32')/255"
   ]
  },
  {
   "cell_type": "code",
   "execution_count": 6,
   "metadata": {},
   "outputs": [],
   "source": [
    "# saveData\n",
    "saveData(X_train1, 'X_train1.pickle')\n",
    "saveData(X_train2, 'X_train2.pickle')\n",
    "saveData(X_test, 'X_test.pickle')\n",
    "saveData(X_valid, 'X_valid.pickle')"
   ]
  },
  {
   "cell_type": "code",
   "execution_count": 7,
   "metadata": {},
   "outputs": [
    {
     "name": "stdout",
     "output_type": "stream",
     "text": [
      " Volume in drive C is Local Disk\n",
      " Volume Serial Number is 0671-FAEA\n",
      "\n",
      " Directory of C:\\Users\\mattc\\Coursera\\ibm-ads-capstone\n",
      "\n",
      "17/03/2019  20:07       202,558,540 images_test.pickle\n",
      "17/03/2019  20:06       744,997,171 images_train.pickle\n",
      "17/03/2019  20:07       202,605,340 images_valid.pickle\n",
      "17/03/2019  20:07             6,065 labels_test.pickle\n",
      "17/03/2019  20:06            22,151 labels_train.pickle\n",
      "17/03/2019  20:07             6,065 labels_valid.pickle\n",
      "17/03/2019  20:10       810,000,160 X_test.pickle\n",
      "17/03/2019  20:10     1,350,000,160 X_train1.pickle\n",
      "17/03/2019  20:10     1,629,180,160 X_train2.pickle\n",
      "17/03/2019  20:10       810,000,160 X_valid.pickle\n",
      "17/03/2019  20:06            72,155 y_test.pickle\n",
      "17/03/2019  20:06           264,971 y_train.pickle\n",
      "17/03/2019  20:07            72,155 y_valid.pickle\n",
      "              13 File(s)  5,749,785,253 bytes\n",
      "               0 Dir(s)  21,018,157,056 bytes free\n"
     ]
    }
   ],
   "source": [
    "!dir *.pickle"
   ]
  },
  {
   "cell_type": "code",
   "execution_count": null,
   "metadata": {},
   "outputs": [],
   "source": []
  }
 ],
 "metadata": {
  "kernelspec": {
   "display_name": "Python 3",
   "language": "python",
   "name": "python3"
  },
  "language_info": {
   "codemirror_mode": {
    "name": "ipython",
    "version": 3
   },
   "file_extension": ".py",
   "mimetype": "text/x-python",
   "name": "python",
   "nbconvert_exporter": "python",
   "pygments_lexer": "ipython3",
   "version": "3.6.7"
  }
 },
 "nbformat": 4,
 "nbformat_minor": 1
}
